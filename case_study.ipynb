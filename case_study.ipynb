{
 "cells": [
  {
   "cell_type": "markdown",
   "metadata": {},
   "source": [
    "#  Data load and imports"
   ]
  },
  {
   "cell_type": "markdown",
   "metadata": {},
   "source": [
    "Import of libraries and packages"
   ]
  },
  {
   "cell_type": "code",
   "execution_count": 33,
   "metadata": {},
   "outputs": [],
   "source": [
    "import numpy as np\n",
    "import pandas as pd\n",
    "import matplotlib.pyplot as plt\n",
    "import scipy.stats as stats\n",
    "from sklearn import preprocessing\n",
    "import seaborn as sns"
   ]
  },
  {
   "cell_type": "markdown",
   "metadata": {},
   "source": [
    "Get data"
   ]
  },
  {
   "cell_type": "code",
   "execution_count": 2,
   "metadata": {},
   "outputs": [],
   "source": [
    "data = pd.read_csv('data/Data_Scientist_-_Case_Dataset.csv', delimiter=',')"
   ]
  },
  {
   "cell_type": "code",
   "execution_count": 3,
   "metadata": {},
   "outputs": [
    {
     "data": {
      "text/plain": [
       "Index(['customer_id', 'converted', 'customer_segment', 'gender', 'age',\n",
       "       'related_customers', 'family_size', 'initial_fee_level',\n",
       "       'credit_account_id', 'branch'],\n",
       "      dtype='object')"
      ]
     },
     "execution_count": 3,
     "metadata": {},
     "output_type": "execute_result"
    }
   ],
   "source": [
    "data.columns"
   ]
  },
  {
   "cell_type": "markdown",
   "metadata": {},
   "source": [
    "From the description of the data we know that the four variables: age, related customers, family size and initial fee level are numeric values. The remaining six variables (including the target variable, converted) are categorical values.\n",
    "\n",
    "The customer id is unique for each customer which can be checked by checking that the length of the entire data set is the same as the unique number of customer ids:"
   ]
  },
  {
   "cell_type": "code",
   "execution_count": 4,
   "metadata": {},
   "outputs": [
    {
     "data": {
      "text/plain": [
       "True"
      ]
     },
     "execution_count": 4,
     "metadata": {},
     "output_type": "execute_result"
    }
   ],
   "source": [
    "len(data) == len(np.unique(data['customer_id']))"
   ]
  },
  {
   "cell_type": "code",
   "execution_count": 5,
   "metadata": {},
   "outputs": [
    {
     "data": {
      "text/html": [
       "<div>\n",
       "<style scoped>\n",
       "    .dataframe tbody tr th:only-of-type {\n",
       "        vertical-align: middle;\n",
       "    }\n",
       "\n",
       "    .dataframe tbody tr th {\n",
       "        vertical-align: top;\n",
       "    }\n",
       "\n",
       "    .dataframe thead th {\n",
       "        text-align: right;\n",
       "    }\n",
       "</style>\n",
       "<table border=\"1\" class=\"dataframe\">\n",
       "  <thead>\n",
       "    <tr style=\"text-align: right;\">\n",
       "      <th></th>\n",
       "      <th>customer_id</th>\n",
       "      <th>converted</th>\n",
       "      <th>customer_segment</th>\n",
       "      <th>gender</th>\n",
       "      <th>age</th>\n",
       "      <th>related_customers</th>\n",
       "      <th>family_size</th>\n",
       "      <th>initial_fee_level</th>\n",
       "      <th>credit_account_id</th>\n",
       "      <th>branch</th>\n",
       "    </tr>\n",
       "  </thead>\n",
       "  <tbody>\n",
       "    <tr>\n",
       "      <th>0</th>\n",
       "      <td>15001</td>\n",
       "      <td>0</td>\n",
       "      <td>13</td>\n",
       "      <td>male</td>\n",
       "      <td>22.0</td>\n",
       "      <td>1</td>\n",
       "      <td>0</td>\n",
       "      <td>14.5000</td>\n",
       "      <td>9b2d5b4678781e53038e91ea5324530a03f27dc1d0e5f6...</td>\n",
       "      <td>Helsinki</td>\n",
       "    </tr>\n",
       "    <tr>\n",
       "      <th>1</th>\n",
       "      <td>15002</td>\n",
       "      <td>1</td>\n",
       "      <td>11</td>\n",
       "      <td>female</td>\n",
       "      <td>38.0</td>\n",
       "      <td>1</td>\n",
       "      <td>0</td>\n",
       "      <td>142.5666</td>\n",
       "      <td>afa2dc179e46e8456ffff9016f91396e9c6adf1fe20d17...</td>\n",
       "      <td>Tampere</td>\n",
       "    </tr>\n",
       "    <tr>\n",
       "      <th>2</th>\n",
       "      <td>15003</td>\n",
       "      <td>1</td>\n",
       "      <td>13</td>\n",
       "      <td>female</td>\n",
       "      <td>26.0</td>\n",
       "      <td>0</td>\n",
       "      <td>0</td>\n",
       "      <td>15.8500</td>\n",
       "      <td>9b2d5b4678781e53038e91ea5324530a03f27dc1d0e5f6...</td>\n",
       "      <td>Helsinki</td>\n",
       "    </tr>\n",
       "    <tr>\n",
       "      <th>3</th>\n",
       "      <td>15004</td>\n",
       "      <td>1</td>\n",
       "      <td>11</td>\n",
       "      <td>female</td>\n",
       "      <td>35.0</td>\n",
       "      <td>1</td>\n",
       "      <td>0</td>\n",
       "      <td>106.2000</td>\n",
       "      <td>abefcf257b5d2ff2816a68ec7c84ec8c11e0e0dc4f3425...</td>\n",
       "      <td>Helsinki</td>\n",
       "    </tr>\n",
       "    <tr>\n",
       "      <th>4</th>\n",
       "      <td>15005</td>\n",
       "      <td>0</td>\n",
       "      <td>13</td>\n",
       "      <td>male</td>\n",
       "      <td>35.0</td>\n",
       "      <td>0</td>\n",
       "      <td>0</td>\n",
       "      <td>16.1000</td>\n",
       "      <td>9b2d5b4678781e53038e91ea5324530a03f27dc1d0e5f6...</td>\n",
       "      <td>Helsinki</td>\n",
       "    </tr>\n",
       "    <tr>\n",
       "      <th>...</th>\n",
       "      <td>...</td>\n",
       "      <td>...</td>\n",
       "      <td>...</td>\n",
       "      <td>...</td>\n",
       "      <td>...</td>\n",
       "      <td>...</td>\n",
       "      <td>...</td>\n",
       "      <td>...</td>\n",
       "      <td>...</td>\n",
       "      <td>...</td>\n",
       "    </tr>\n",
       "    <tr>\n",
       "      <th>886</th>\n",
       "      <td>15887</td>\n",
       "      <td>0</td>\n",
       "      <td>12</td>\n",
       "      <td>male</td>\n",
       "      <td>27.0</td>\n",
       "      <td>0</td>\n",
       "      <td>0</td>\n",
       "      <td>26.0000</td>\n",
       "      <td>9b2d5b4678781e53038e91ea5324530a03f27dc1d0e5f6...</td>\n",
       "      <td>Helsinki</td>\n",
       "    </tr>\n",
       "    <tr>\n",
       "      <th>887</th>\n",
       "      <td>15888</td>\n",
       "      <td>1</td>\n",
       "      <td>11</td>\n",
       "      <td>female</td>\n",
       "      <td>19.0</td>\n",
       "      <td>0</td>\n",
       "      <td>0</td>\n",
       "      <td>60.0000</td>\n",
       "      <td>72294ba1616ddcaee48e56501040e876d26bd0c1839f3c...</td>\n",
       "      <td>Helsinki</td>\n",
       "    </tr>\n",
       "    <tr>\n",
       "      <th>888</th>\n",
       "      <td>15889</td>\n",
       "      <td>0</td>\n",
       "      <td>13</td>\n",
       "      <td>female</td>\n",
       "      <td>NaN</td>\n",
       "      <td>1</td>\n",
       "      <td>2</td>\n",
       "      <td>46.9000</td>\n",
       "      <td>9b2d5b4678781e53038e91ea5324530a03f27dc1d0e5f6...</td>\n",
       "      <td>Helsinki</td>\n",
       "    </tr>\n",
       "    <tr>\n",
       "      <th>889</th>\n",
       "      <td>15890</td>\n",
       "      <td>1</td>\n",
       "      <td>11</td>\n",
       "      <td>male</td>\n",
       "      <td>26.0</td>\n",
       "      <td>0</td>\n",
       "      <td>0</td>\n",
       "      <td>60.0000</td>\n",
       "      <td>a2b612f45840d6f27b1a73ddae7f50e0bd9c4935903de6...</td>\n",
       "      <td>Tampere</td>\n",
       "    </tr>\n",
       "    <tr>\n",
       "      <th>890</th>\n",
       "      <td>15891</td>\n",
       "      <td>0</td>\n",
       "      <td>13</td>\n",
       "      <td>male</td>\n",
       "      <td>32.0</td>\n",
       "      <td>0</td>\n",
       "      <td>0</td>\n",
       "      <td>15.5000</td>\n",
       "      <td>9b2d5b4678781e53038e91ea5324530a03f27dc1d0e5f6...</td>\n",
       "      <td>Turku</td>\n",
       "    </tr>\n",
       "  </tbody>\n",
       "</table>\n",
       "<p>891 rows × 10 columns</p>\n",
       "</div>"
      ],
      "text/plain": [
       "     customer_id  converted  customer_segment  gender   age  \\\n",
       "0          15001          0                13    male  22.0   \n",
       "1          15002          1                11  female  38.0   \n",
       "2          15003          1                13  female  26.0   \n",
       "3          15004          1                11  female  35.0   \n",
       "4          15005          0                13    male  35.0   \n",
       "..           ...        ...               ...     ...   ...   \n",
       "886        15887          0                12    male  27.0   \n",
       "887        15888          1                11  female  19.0   \n",
       "888        15889          0                13  female   NaN   \n",
       "889        15890          1                11    male  26.0   \n",
       "890        15891          0                13    male  32.0   \n",
       "\n",
       "     related_customers  family_size  initial_fee_level  \\\n",
       "0                    1            0            14.5000   \n",
       "1                    1            0           142.5666   \n",
       "2                    0            0            15.8500   \n",
       "3                    1            0           106.2000   \n",
       "4                    0            0            16.1000   \n",
       "..                 ...          ...                ...   \n",
       "886                  0            0            26.0000   \n",
       "887                  0            0            60.0000   \n",
       "888                  1            2            46.9000   \n",
       "889                  0            0            60.0000   \n",
       "890                  0            0            15.5000   \n",
       "\n",
       "                                     credit_account_id    branch  \n",
       "0    9b2d5b4678781e53038e91ea5324530a03f27dc1d0e5f6...  Helsinki  \n",
       "1    afa2dc179e46e8456ffff9016f91396e9c6adf1fe20d17...   Tampere  \n",
       "2    9b2d5b4678781e53038e91ea5324530a03f27dc1d0e5f6...  Helsinki  \n",
       "3    abefcf257b5d2ff2816a68ec7c84ec8c11e0e0dc4f3425...  Helsinki  \n",
       "4    9b2d5b4678781e53038e91ea5324530a03f27dc1d0e5f6...  Helsinki  \n",
       "..                                                 ...       ...  \n",
       "886  9b2d5b4678781e53038e91ea5324530a03f27dc1d0e5f6...  Helsinki  \n",
       "887  72294ba1616ddcaee48e56501040e876d26bd0c1839f3c...  Helsinki  \n",
       "888  9b2d5b4678781e53038e91ea5324530a03f27dc1d0e5f6...  Helsinki  \n",
       "889  a2b612f45840d6f27b1a73ddae7f50e0bd9c4935903de6...   Tampere  \n",
       "890  9b2d5b4678781e53038e91ea5324530a03f27dc1d0e5f6...     Turku  \n",
       "\n",
       "[891 rows x 10 columns]"
      ]
     },
     "execution_count": 5,
     "metadata": {},
     "output_type": "execute_result"
    }
   ],
   "source": [
    "data"
   ]
  },
  {
   "cell_type": "markdown",
   "metadata": {},
   "source": [
    "To check for missing data, I will print the number of missing data points for each column that has any data missing:"
   ]
  },
  {
   "cell_type": "code",
   "execution_count": 6,
   "metadata": {},
   "outputs": [
    {
     "name": "stdout",
     "output_type": "stream",
     "text": [
      "Number missing data in age is 177, resulting in 714 useable data points for that variable.\n",
      "Number missing data in branch is 2, resulting in 889 useable data points for that variable.\n"
     ]
    }
   ],
   "source": [
    "for n in data.columns:\n",
    "    data_nan = len(data[pd.isna(data[n]) == True])\n",
    "    if data_nan > 0:\n",
    "        print(f'Number missing data in {n} is {data_nan}, resulting in {len(data) - data_nan} useable data points for that variable.')"
   ]
  },
  {
   "cell_type": "markdown",
   "metadata": {},
   "source": [
    "# Visualizing the key influencer from PowerBI analysis"
   ]
  },
  {
   "cell_type": "markdown",
   "metadata": {},
   "source": [
    "The automatic \"key influencers\"-function in PowerBI (posted in the pdf-file \"PowerBI_analysis.pdf\") identified the gender to be the most important factor when predicting whether a customer has converted or not. Therefore I will start by looking at the data for each gender."
   ]
  },
  {
   "cell_type": "code",
   "execution_count": 7,
   "metadata": {},
   "outputs": [
    {
     "data": {
      "image/png": "[encoded data removed]",
      "text/plain": [
       "<Figure size 432x288 with 1 Axes>"
      ]
     },
     "metadata": {
      "needs_background": "light"
     },
     "output_type": "display_data"
    }
   ],
   "source": [
    "gender = data['gender']\n",
    "\n",
    "plt.figure()\n",
    "n, _, _ = plt.hist((gender[data['converted'] == 0], gender[data['converted'] == 1]), label = ['Not converted', 'Converted'])\n",
    "plt.hlines(n[n != 0], -0.2, 1.2, alpha=0)\n",
    "for i, nn in enumerate(n[n != 0]):\n",
    "    if i%2:\n",
    "        plt.text(1, nn, int(nn), ha='left', va='baseline')\n",
    "    else:\n",
    "        plt.text(0, nn, int(nn), ha='right', va='baseline')\n",
    "plt.ylabel('Count')\n",
    "plt.yticks(np.arange(0, np.max(n), step=50))\n",
    "plt.legend(loc = 'best')\n",
    "plt.show()"
   ]
  },
  {
   "cell_type": "markdown",
   "metadata": {},
   "source": [
    "It is clear to see that gender is an important factor as females are disproportionally converted while males are not."
   ]
  },
  {
   "cell_type": "code",
   "execution_count": 8,
   "metadata": {},
   "outputs": [
    {
     "data": {
      "image/png": "[encoded data removed]",
      "text/plain": [
       "<Figure size 864x288 with 1 Axes>"
      ]
     },
     "metadata": {
      "needs_background": "light"
     },
     "output_type": "display_data"
    }
   ],
   "source": [
    "init_fee = data['initial_fee_level']\n",
    "\n",
    "plt.figure(figsize=(12,4))\n",
    "plt.plot(init_fee, data['converted'], '.', alpha=0.5)\n",
    "plt.vlines([20.925, 147], -0.3, 1.3, linestyles='dashed', alpha=[0.3, 0.5], color='green', lw = 1.2, label='PowerBI \\nsuggested \\ncut-offs')\n",
    "plt.xlabel('Initial fee level (logarithmic scale)')\n",
    "plt.ylabel('Converted')\n",
    "plt.yticks([0,1])\n",
    "plt.xscale('log')\n",
    "plt.legend()\n",
    "plt.show()"
   ]
  },
  {
   "cell_type": "markdown",
   "metadata": {},
   "source": [
    "This will be easier to see in a histogram"
   ]
  },
  {
   "cell_type": "code",
   "execution_count": 9,
   "metadata": {},
   "outputs": [
    {
     "data": {
      "image/png": "[encoded data removed]",
      "text/plain": [
       "<Figure size 720x432 with 1 Axes>"
      ]
     },
     "metadata": {
      "needs_background": "light"
     },
     "output_type": "display_data"
    }
   ],
   "source": [
    "plt.figure(figsize=(10,6))\n",
    "\n",
    "#The start point is the min value over 0 as it is not possible to calculate the log of 0\n",
    "logbins=np.logspace(np.log10(min(init_fee[init_fee>0])),np.log10(max(init_fee)), 100)\n",
    "\n",
    "n0, _, _ = plt.hist(init_fee[data['converted'] == 0],alpha=0.65, bins=logbins, label='Not converted')\n",
    "n1, _, _ = plt.hist(init_fee[data['converted'] == 1],alpha=0.6, bins=logbins, label='Converted')\n",
    "plt.vlines([20.925, 147], 0, max([*n0,*n1]), linestyles='dashed', alpha=[0.35, 0.5], color='green', lw = 1.2, label='PowerBI \\nsuggested \\ncut-offs')\n",
    "plt.xlabel('Initial fee level (logarithmic scale)')\n",
    "plt.ylabel('Count')\n",
    "plt.xscale('log')\n",
    "plt.legend()\n",
    "plt.show()"
   ]
  },
  {
   "cell_type": "markdown",
   "metadata": {},
   "source": [
    "It is very clear to see that especially the right cut-off at initial fee level > 147 contains a majority of converted customers, while a left cut-off at 20.925 has a majority of not converted customers. The middle section is a bit more muddy and in this section of the initial fee level is not a good sole factor to determine if a customer is converted or not."
   ]
  },
  {
   "cell_type": "markdown",
   "metadata": {},
   "source": [
    "Customer segment is the next on the list according to PowerBI"
   ]
  },
  {
   "cell_type": "code",
   "execution_count": 10,
   "metadata": {},
   "outputs": [
    {
     "data": {
      "image/png": "[encoded data removed]",
      "text/plain": [
       "<Figure size 432x288 with 1 Axes>"
      ]
     },
     "metadata": {
      "needs_background": "light"
     },
     "output_type": "display_data"
    }
   ],
   "source": [
    "customer_segment = data['customer_segment']\n",
    "\n",
    "plt.figure()\n",
    "n, _, _ = plt.hist((customer_segment[data['converted'] == 0], customer_segment[data['converted'] == 1]), label = ['Not converted', 'Converted'])\n",
    "plt.xticks(np.unique(customer_segment))\n",
    "plt.yticks(np.arange(0, np.max(n), step=50))\n",
    "plt.xlabel('Customer segment')\n",
    "plt.ylabel('Count')\n",
    "plt.legend(loc = 'best')\n",
    "plt.show()"
   ]
  },
  {
   "cell_type": "markdown",
   "metadata": {},
   "source": [
    "From this histogram it is seen that it is primarily in the customer segment 13 that this variable is good as a sole factor to determine if a customer is converted or not, as majority of customers in this segment are not converted. Segment 11 also have a little majority of customers being converted, but the difference between the number of converted and not converted customers is less"
   ]
  },
  {
   "cell_type": "markdown",
   "metadata": {},
   "source": [
    "# Analysis in Python"
   ]
  },
  {
   "cell_type": "markdown",
   "metadata": {},
   "source": [
    "I will use Cramer's V to determine how big correlation there is between the converted customers and the other variables. This is a test to test the relationship between two categorical variables which means that the continous variables will have to be put into categories. This will be on the cost of some precision, but this way the same test can be used for all variables. The result is a number between 0 and 1 for each variable pair, where 0 is no correlation and 1 is a strong correlation."
   ]
  },
  {
   "cell_type": "markdown",
   "metadata": {},
   "source": [
    "\n",
    "the customer_id column is dropped as this is a unique id for each customer and shouldnn't be "
   ]
  },
  {
   "cell_type": "code",
   "execution_count": 11,
   "metadata": {},
   "outputs": [
    {
     "data": {
      "text/html": [
       "<div>\n",
       "<style scoped>\n",
       "    .dataframe tbody tr th:only-of-type {\n",
       "        vertical-align: middle;\n",
       "    }\n",
       "\n",
       "    .dataframe tbody tr th {\n",
       "        vertical-align: top;\n",
       "    }\n",
       "\n",
       "    .dataframe thead th {\n",
       "        text-align: right;\n",
       "    }\n",
       "</style>\n",
       "<table border=\"1\" class=\"dataframe\">\n",
       "  <thead>\n",
       "    <tr style=\"text-align: right;\">\n",
       "      <th></th>\n",
       "      <th>customer_id</th>\n",
       "      <th>converted</th>\n",
       "      <th>customer_segment</th>\n",
       "      <th>gender</th>\n",
       "      <th>age</th>\n",
       "      <th>related_customers</th>\n",
       "      <th>family_size</th>\n",
       "      <th>initial_fee_level</th>\n",
       "      <th>credit_account_id</th>\n",
       "      <th>branch</th>\n",
       "    </tr>\n",
       "  </thead>\n",
       "  <tbody>\n",
       "    <tr>\n",
       "      <th>0</th>\n",
       "      <td>15001</td>\n",
       "      <td>0</td>\n",
       "      <td>13</td>\n",
       "      <td>male</td>\n",
       "      <td>22.0</td>\n",
       "      <td>1</td>\n",
       "      <td>0</td>\n",
       "      <td>14.5000</td>\n",
       "      <td>9b2d5b4678781e53038e91ea5324530a03f27dc1d0e5f6...</td>\n",
       "      <td>Helsinki</td>\n",
       "    </tr>\n",
       "    <tr>\n",
       "      <th>1</th>\n",
       "      <td>15002</td>\n",
       "      <td>1</td>\n",
       "      <td>11</td>\n",
       "      <td>female</td>\n",
       "      <td>38.0</td>\n",
       "      <td>1</td>\n",
       "      <td>0</td>\n",
       "      <td>142.5666</td>\n",
       "      <td>afa2dc179e46e8456ffff9016f91396e9c6adf1fe20d17...</td>\n",
       "      <td>Tampere</td>\n",
       "    </tr>\n",
       "    <tr>\n",
       "      <th>2</th>\n",
       "      <td>15003</td>\n",
       "      <td>1</td>\n",
       "      <td>13</td>\n",
       "      <td>female</td>\n",
       "      <td>26.0</td>\n",
       "      <td>0</td>\n",
       "      <td>0</td>\n",
       "      <td>15.8500</td>\n",
       "      <td>9b2d5b4678781e53038e91ea5324530a03f27dc1d0e5f6...</td>\n",
       "      <td>Helsinki</td>\n",
       "    </tr>\n",
       "    <tr>\n",
       "      <th>3</th>\n",
       "      <td>15004</td>\n",
       "      <td>1</td>\n",
       "      <td>11</td>\n",
       "      <td>female</td>\n",
       "      <td>35.0</td>\n",
       "      <td>1</td>\n",
       "      <td>0</td>\n",
       "      <td>106.2000</td>\n",
       "      <td>abefcf257b5d2ff2816a68ec7c84ec8c11e0e0dc4f3425...</td>\n",
       "      <td>Helsinki</td>\n",
       "    </tr>\n",
       "    <tr>\n",
       "      <th>4</th>\n",
       "      <td>15005</td>\n",
       "      <td>0</td>\n",
       "      <td>13</td>\n",
       "      <td>male</td>\n",
       "      <td>35.0</td>\n",
       "      <td>0</td>\n",
       "      <td>0</td>\n",
       "      <td>16.1000</td>\n",
       "      <td>9b2d5b4678781e53038e91ea5324530a03f27dc1d0e5f6...</td>\n",
       "      <td>Helsinki</td>\n",
       "    </tr>\n",
       "  </tbody>\n",
       "</table>\n",
       "</div>"
      ],
      "text/plain": [
       "   customer_id  converted  customer_segment  gender   age  related_customers  \\\n",
       "0        15001          0                13    male  22.0                  1   \n",
       "1        15002          1                11  female  38.0                  1   \n",
       "2        15003          1                13  female  26.0                  0   \n",
       "3        15004          1                11  female  35.0                  1   \n",
       "4        15005          0                13    male  35.0                  0   \n",
       "\n",
       "   family_size  initial_fee_level  \\\n",
       "0            0            14.5000   \n",
       "1            0           142.5666   \n",
       "2            0            15.8500   \n",
       "3            0           106.2000   \n",
       "4            0            16.1000   \n",
       "\n",
       "                                   credit_account_id    branch  \n",
       "0  9b2d5b4678781e53038e91ea5324530a03f27dc1d0e5f6...  Helsinki  \n",
       "1  afa2dc179e46e8456ffff9016f91396e9c6adf1fe20d17...   Tampere  \n",
       "2  9b2d5b4678781e53038e91ea5324530a03f27dc1d0e5f6...  Helsinki  \n",
       "3  abefcf257b5d2ff2816a68ec7c84ec8c11e0e0dc4f3425...  Helsinki  \n",
       "4  9b2d5b4678781e53038e91ea5324530a03f27dc1d0e5f6...  Helsinki  "
      ]
     },
     "execution_count": 11,
     "metadata": {},
     "output_type": "execute_result"
    }
   ],
   "source": [
    "data.head()"
   ]
  },
  {
   "cell_type": "code",
   "execution_count": 12,
   "metadata": {},
   "outputs": [],
   "source": [
    "data_cramersV = data.copy(deep=True)"
   ]
  },
  {
   "cell_type": "markdown",
   "metadata": {},
   "source": [
    "The customer credit account id is the same for all customers that don't have an id. I will refer to this id as the \"generic id\""
   ]
  },
  {
   "cell_type": "code",
   "execution_count": 13,
   "metadata": {},
   "outputs": [
    {
     "name": "stdout",
     "output_type": "stream",
     "text": [
      "Number of unique credit account ids is 148\n",
      "Number of customers with no credit account ids is 687\n"
     ]
    }
   ],
   "source": [
    "unique_ids = len(np.unique(data_cramersV['credit_account_id']))\n",
    "print(f'Number of unique credit account ids is {unique_ids}')\n",
    "gen_id = '9b2d5b4678781e53038e91ea5324530a03f27dc1d0e5f6c9bc9d493a23be9de0'\n",
    "no_id = len(data_cramersV[data_cramersV['credit_account_id'] == gen_id])\n",
    "print(f'Number of customers with no credit account ids is {no_id}')"
   ]
  },
  {
   "cell_type": "markdown",
   "metadata": {},
   "source": [
    "While some ids other than the generic id are present more than once in the data set I will simply divide this variable into \"id\"/1 and \"no id\"/0 categories."
   ]
  },
  {
   "cell_type": "code",
   "execution_count": 14,
   "metadata": {},
   "outputs": [],
   "source": [
    "data_cramersV.loc[data_cramersV['credit_account_id'] == gen_id, 'credit_account_id'] = 0\n",
    "data_cramersV.loc[data_cramersV['credit_account_id'] != 0, 'credit_account_id'] = 1"
   ]
  },
  {
   "cell_type": "markdown",
   "metadata": {},
   "source": [
    "The customer ids are unique for each customer, but as I cannot rule out that time could have an effect (if the ids are given out in cronological order), I will also group them into categories. This will only count if the ids are given out in cronological order, otherwise possible detected correlations will be accidental"
   ]
  },
  {
   "cell_type": "code",
   "execution_count": 15,
   "metadata": {},
   "outputs": [],
   "source": [
    "data_cramersV['customer_id'] = pd.cut(data['customer_id'], bins = 10)"
   ]
  },
  {
   "cell_type": "code",
   "execution_count": 16,
   "metadata": {},
   "outputs": [
    {
     "name": "stdout",
     "output_type": "stream",
     "text": [
      "Number of categories in family size is 7\n",
      "Number of ages is 89\n",
      "Number of categories in initial fee level is 248\n",
      "Number of related customers is 7\n"
     ]
    }
   ],
   "source": [
    "checked_len = len(np.unique(data_cramersV['family_size']))\n",
    "print(f'Number of categories in family size is {checked_len}')\n",
    "\n",
    "checked_len = len(np.unique(data_cramersV['age']))\n",
    "print(f'Number of ages is {checked_len}')\n",
    "\n",
    "checked_len = len(np.unique(data_cramersV['initial_fee_level']))\n",
    "print(f'Number of categories in initial fee level is {checked_len}')\n",
    "\n",
    "checked_len = len(np.unique(data_cramersV['related_customers']))\n",
    "print(f'Number of related customers is {checked_len}')"
   ]
  },
  {
   "cell_type": "markdown",
   "metadata": {},
   "source": [
    "Here it is seen that the number of categories for the family size and the related customers are both 7. As this is a low amount of categories they are kept as is.\n",
    "\n",
    "Age and initial fee level are both divided into categories."
   ]
  },
  {
   "cell_type": "markdown",
   "metadata": {},
   "source": [
    "Age will be divided into intervals of 10 years starting at 0 years of age and the last bin decided based on the oldest person in the data set."
   ]
  },
  {
   "cell_type": "code",
   "execution_count": 17,
   "metadata": {},
   "outputs": [
    {
     "name": "stdout",
     "output_type": "stream",
     "text": [
      "80.0\n"
     ]
    }
   ],
   "source": [
    "print(max(data_cramersV['age']))"
   ]
  },
  {
   "cell_type": "code",
   "execution_count": 18,
   "metadata": {},
   "outputs": [],
   "source": [
    "bins = pd.IntervalIndex.from_tuples([(0, 10), (10, 20), (20, 30), (30, 40), (40, 50), (50, 60), (60, 70), (70, 80)])\n",
    "data_cramersV['age'] = pd.cut(data['age'], bins = bins)"
   ]
  },
  {
   "cell_type": "markdown",
   "metadata": {},
   "source": [
    "Initial fee level will be divided into logarithmic bins as there is far between the greater valued data as seen in the plots earlier"
   ]
  },
  {
   "cell_type": "code",
   "execution_count": 19,
   "metadata": {},
   "outputs": [],
   "source": [
    "logbins = np.logspace(0,np.log10(max(init_fee)), 10)\n",
    "data_cramersV['initial_fee_level'] = pd.cut(data['initial_fee_level'], bins = logbins)"
   ]
  },
  {
   "cell_type": "code",
   "execution_count": 20,
   "metadata": {},
   "outputs": [
    {
     "data": {
      "text/plain": [
       "8"
      ]
     },
     "execution_count": 20,
     "metadata": {},
     "output_type": "execute_result"
    }
   ],
   "source": [
    "len(pd.unique(data_cramersV['initial_fee_level']))"
   ]
  },
  {
   "cell_type": "code",
   "execution_count": 21,
   "metadata": {},
   "outputs": [
    {
     "data": {
      "text/html": [
       "<div>\n",
       "<style scoped>\n",
       "    .dataframe tbody tr th:only-of-type {\n",
       "        vertical-align: middle;\n",
       "    }\n",
       "\n",
       "    .dataframe tbody tr th {\n",
       "        vertical-align: top;\n",
       "    }\n",
       "\n",
       "    .dataframe thead th {\n",
       "        text-align: right;\n",
       "    }\n",
       "</style>\n",
       "<table border=\"1\" class=\"dataframe\">\n",
       "  <thead>\n",
       "    <tr style=\"text-align: right;\">\n",
       "      <th></th>\n",
       "      <th>customer_id</th>\n",
       "      <th>converted</th>\n",
       "      <th>customer_segment</th>\n",
       "      <th>gender</th>\n",
       "      <th>age</th>\n",
       "      <th>related_customers</th>\n",
       "      <th>family_size</th>\n",
       "      <th>initial_fee_level</th>\n",
       "      <th>credit_account_id</th>\n",
       "      <th>branch</th>\n",
       "    </tr>\n",
       "  </thead>\n",
       "  <tbody>\n",
       "    <tr>\n",
       "      <th>0</th>\n",
       "      <td>(15000.11, 15090.0]</td>\n",
       "      <td>0</td>\n",
       "      <td>13</td>\n",
       "      <td>male</td>\n",
       "      <td>(20, 30]</td>\n",
       "      <td>1</td>\n",
       "      <td>0</td>\n",
       "      <td>(10.082, 21.779]</td>\n",
       "      <td>0</td>\n",
       "      <td>Helsinki</td>\n",
       "    </tr>\n",
       "    <tr>\n",
       "      <th>1</th>\n",
       "      <td>(15000.11, 15090.0]</td>\n",
       "      <td>1</td>\n",
       "      <td>11</td>\n",
       "      <td>female</td>\n",
       "      <td>(30, 40]</td>\n",
       "      <td>1</td>\n",
       "      <td>0</td>\n",
       "      <td>(101.637, 219.564]</td>\n",
       "      <td>1</td>\n",
       "      <td>Tampere</td>\n",
       "    </tr>\n",
       "    <tr>\n",
       "      <th>2</th>\n",
       "      <td>(15000.11, 15090.0]</td>\n",
       "      <td>1</td>\n",
       "      <td>13</td>\n",
       "      <td>female</td>\n",
       "      <td>(20, 30]</td>\n",
       "      <td>0</td>\n",
       "      <td>0</td>\n",
       "      <td>(10.082, 21.779]</td>\n",
       "      <td>0</td>\n",
       "      <td>Helsinki</td>\n",
       "    </tr>\n",
       "    <tr>\n",
       "      <th>3</th>\n",
       "      <td>(15000.11, 15090.0]</td>\n",
       "      <td>1</td>\n",
       "      <td>11</td>\n",
       "      <td>female</td>\n",
       "      <td>(30, 40]</td>\n",
       "      <td>1</td>\n",
       "      <td>0</td>\n",
       "      <td>(101.637, 219.564]</td>\n",
       "      <td>1</td>\n",
       "      <td>Helsinki</td>\n",
       "    </tr>\n",
       "    <tr>\n",
       "      <th>4</th>\n",
       "      <td>(15000.11, 15090.0]</td>\n",
       "      <td>0</td>\n",
       "      <td>13</td>\n",
       "      <td>male</td>\n",
       "      <td>(30, 40]</td>\n",
       "      <td>0</td>\n",
       "      <td>0</td>\n",
       "      <td>(10.082, 21.779]</td>\n",
       "      <td>0</td>\n",
       "      <td>Helsinki</td>\n",
       "    </tr>\n",
       "  </tbody>\n",
       "</table>\n",
       "</div>"
      ],
      "text/plain": [
       "           customer_id  converted  customer_segment  gender       age  \\\n",
       "0  (15000.11, 15090.0]          0                13    male  (20, 30]   \n",
       "1  (15000.11, 15090.0]          1                11  female  (30, 40]   \n",
       "2  (15000.11, 15090.0]          1                13  female  (20, 30]   \n",
       "3  (15000.11, 15090.0]          1                11  female  (30, 40]   \n",
       "4  (15000.11, 15090.0]          0                13    male  (30, 40]   \n",
       "\n",
       "   related_customers  family_size   initial_fee_level credit_account_id  \\\n",
       "0                  1            0    (10.082, 21.779]                 0   \n",
       "1                  1            0  (101.637, 219.564]                 1   \n",
       "2                  0            0    (10.082, 21.779]                 0   \n",
       "3                  1            0  (101.637, 219.564]                 1   \n",
       "4                  0            0    (10.082, 21.779]                 0   \n",
       "\n",
       "     branch  \n",
       "0  Helsinki  \n",
       "1   Tampere  \n",
       "2  Helsinki  \n",
       "3  Helsinki  \n",
       "4  Helsinki  "
      ]
     },
     "execution_count": 21,
     "metadata": {},
     "output_type": "execute_result"
    }
   ],
   "source": [
    "data_cramersV.head()"
   ]
  },
  {
   "cell_type": "markdown",
   "metadata": {},
   "source": [
    "At last the data needs to be encoded"
   ]
  },
  {
   "cell_type": "code",
   "execution_count": 22,
   "metadata": {},
   "outputs": [],
   "source": [
    "label = preprocessing.LabelEncoder()\n",
    "data_cramersV_encoded = pd.DataFrame() \n",
    "\n",
    "for i in data_cramersV.columns :\n",
    "  data_cramersV_encoded[i] = label.fit_transform(data_cramersV[i])"
   ]
  },
  {
   "cell_type": "markdown",
   "metadata": {},
   "source": [
    "### Define and run CramersV"
   ]
  },
  {
   "cell_type": "markdown",
   "metadata": {},
   "source": [
    "Define the Cramers V function"
   ]
  },
  {
   "cell_type": "code",
   "execution_count": 55,
   "metadata": {},
   "outputs": [],
   "source": [
    "def cramers_v(confusion_matrix):\n",
    "    \"\"\" calculate Cramers V statistic for categorial-categorial association.\n",
    "        uses correction from Bergsma and Wicher,\n",
    "        Journal of the Korean Statistical Society 42 (2013): 323-328\n",
    "    \"\"\"\n",
    "    chi2 = stats.chi2_contingency(confusion_matrix)[0]\n",
    "    n = confusion_matrix.sum()\n",
    "    phi2 = chi2 / n\n",
    "    r, k = confusion_matrix.shape\n",
    "    phi2corr = max(0, phi2 - ((k-1)*(r-1))/(n-1))\n",
    "    rcorr = r - ((r-1)**2)/(n-1)\n",
    "    kcorr = k - ((k-1)**2)/(n-1)\n",
    "    return np.sqrt(phi2corr / min((kcorr-1), (rcorr-1)))"
   ]
  },
  {
   "cell_type": "code",
   "execution_count": 56,
   "metadata": {},
   "outputs": [],
   "source": [
    "cramersV_results_df = pd.DataFrame(index = data_cramersV.columns, columns = data_cramersV.columns)\n",
    "\n",
    "cramersV_results = []\n",
    "for row in data_cramersV.columns:\n",
    "    for col in data_cramersV.columns:\n",
    "        confusion_matrix = pd.crosstab(data_cramersV[row], data_cramersV[col])\n",
    "        cramers_v_val = cramers_v(confusion_matrix.values)\n",
    "        cramersV_results_df[col][row] = round(cramers_v_val, 2)\n"
   ]
  },
  {
   "cell_type": "code",
   "execution_count": 57,
   "metadata": {},
   "outputs": [
    {
     "data": {
      "text/html": [
       "<div>\n",
       "<style scoped>\n",
       "    .dataframe tbody tr th:only-of-type {\n",
       "        vertical-align: middle;\n",
       "    }\n",
       "\n",
       "    .dataframe tbody tr th {\n",
       "        vertical-align: top;\n",
       "    }\n",
       "\n",
       "    .dataframe thead th {\n",
       "        text-align: right;\n",
       "    }\n",
       "</style>\n",
       "<table border=\"1\" class=\"dataframe\">\n",
       "  <thead>\n",
       "    <tr style=\"text-align: right;\">\n",
       "      <th></th>\n",
       "      <th>customer_id</th>\n",
       "      <th>converted</th>\n",
       "      <th>customer_segment</th>\n",
       "      <th>gender</th>\n",
       "      <th>age</th>\n",
       "      <th>related_customers</th>\n",
       "      <th>family_size</th>\n",
       "      <th>initial_fee_level</th>\n",
       "      <th>credit_account_id</th>\n",
       "      <th>branch</th>\n",
       "    </tr>\n",
       "  </thead>\n",
       "  <tbody>\n",
       "    <tr>\n",
       "      <th>customer_id</th>\n",
       "      <td>1.0</td>\n",
       "      <td>0.1</td>\n",
       "      <td>0.03</td>\n",
       "      <td>0.07</td>\n",
       "      <td>0.0</td>\n",
       "      <td>0.02</td>\n",
       "      <td>0.0</td>\n",
       "      <td>0.03</td>\n",
       "      <td>0.06</td>\n",
       "      <td>0.0</td>\n",
       "    </tr>\n",
       "    <tr>\n",
       "      <th>converted</th>\n",
       "      <td>0.1</td>\n",
       "      <td>1.0</td>\n",
       "      <td>0.34</td>\n",
       "      <td>0.54</td>\n",
       "      <td>0.11</td>\n",
       "      <td>0.19</td>\n",
       "      <td>0.16</td>\n",
       "      <td>0.34</td>\n",
       "      <td>0.31</td>\n",
       "      <td>0.17</td>\n",
       "    </tr>\n",
       "    <tr>\n",
       "      <th>customer_segment</th>\n",
       "      <td>0.03</td>\n",
       "      <td>0.34</td>\n",
       "      <td>1.0</td>\n",
       "      <td>0.13</td>\n",
       "      <td>0.26</td>\n",
       "      <td>0.15</td>\n",
       "      <td>0.02</td>\n",
       "      <td>0.63</td>\n",
       "      <td>0.79</td>\n",
       "      <td>0.26</td>\n",
       "    </tr>\n",
       "    <tr>\n",
       "      <th>gender</th>\n",
       "      <td>0.07</td>\n",
       "      <td>0.54</td>\n",
       "      <td>0.13</td>\n",
       "      <td>1.0</td>\n",
       "      <td>0.07</td>\n",
       "      <td>0.21</td>\n",
       "      <td>0.25</td>\n",
       "      <td>0.27</td>\n",
       "      <td>0.13</td>\n",
       "      <td>0.11</td>\n",
       "    </tr>\n",
       "    <tr>\n",
       "      <th>age</th>\n",
       "      <td>0.0</td>\n",
       "      <td>0.11</td>\n",
       "      <td>0.26</td>\n",
       "      <td>0.07</td>\n",
       "      <td>1.0</td>\n",
       "      <td>0.22</td>\n",
       "      <td>0.22</td>\n",
       "      <td>0.16</td>\n",
       "      <td>0.25</td>\n",
       "      <td>0.02</td>\n",
       "    </tr>\n",
       "    <tr>\n",
       "      <th>related_customers</th>\n",
       "      <td>0.02</td>\n",
       "      <td>0.19</td>\n",
       "      <td>0.15</td>\n",
       "      <td>0.21</td>\n",
       "      <td>0.22</td>\n",
       "      <td>1.0</td>\n",
       "      <td>0.24</td>\n",
       "      <td>0.25</td>\n",
       "      <td>0.14</td>\n",
       "      <td>0.09</td>\n",
       "    </tr>\n",
       "    <tr>\n",
       "      <th>family_size</th>\n",
       "      <td>0.0</td>\n",
       "      <td>0.16</td>\n",
       "      <td>0.02</td>\n",
       "      <td>0.25</td>\n",
       "      <td>0.22</td>\n",
       "      <td>0.24</td>\n",
       "      <td>1.0</td>\n",
       "      <td>0.19</td>\n",
       "      <td>0.09</td>\n",
       "      <td>0.05</td>\n",
       "    </tr>\n",
       "    <tr>\n",
       "      <th>initial_fee_level</th>\n",
       "      <td>0.03</td>\n",
       "      <td>0.34</td>\n",
       "      <td>0.63</td>\n",
       "      <td>0.27</td>\n",
       "      <td>0.16</td>\n",
       "      <td>0.25</td>\n",
       "      <td>0.19</td>\n",
       "      <td>1.0</td>\n",
       "      <td>0.64</td>\n",
       "      <td>0.21</td>\n",
       "    </tr>\n",
       "    <tr>\n",
       "      <th>credit_account_id</th>\n",
       "      <td>0.06</td>\n",
       "      <td>0.31</td>\n",
       "      <td>0.79</td>\n",
       "      <td>0.13</td>\n",
       "      <td>0.25</td>\n",
       "      <td>0.14</td>\n",
       "      <td>0.09</td>\n",
       "      <td>0.64</td>\n",
       "      <td>1.0</td>\n",
       "      <td>0.23</td>\n",
       "    </tr>\n",
       "    <tr>\n",
       "      <th>branch</th>\n",
       "      <td>0.0</td>\n",
       "      <td>0.17</td>\n",
       "      <td>0.26</td>\n",
       "      <td>0.11</td>\n",
       "      <td>0.02</td>\n",
       "      <td>0.09</td>\n",
       "      <td>0.05</td>\n",
       "      <td>0.21</td>\n",
       "      <td>0.23</td>\n",
       "      <td>1.0</td>\n",
       "    </tr>\n",
       "  </tbody>\n",
       "</table>\n",
       "</div>"
      ],
      "text/plain": [
       "                  customer_id converted customer_segment gender   age  \\\n",
       "customer_id               1.0       0.1             0.03   0.07   0.0   \n",
       "converted                 0.1       1.0             0.34   0.54  0.11   \n",
       "customer_segment         0.03      0.34              1.0   0.13  0.26   \n",
       "gender                   0.07      0.54             0.13    1.0  0.07   \n",
       "age                       0.0      0.11             0.26   0.07   1.0   \n",
       "related_customers        0.02      0.19             0.15   0.21  0.22   \n",
       "family_size               0.0      0.16             0.02   0.25  0.22   \n",
       "initial_fee_level        0.03      0.34             0.63   0.27  0.16   \n",
       "credit_account_id        0.06      0.31             0.79   0.13  0.25   \n",
       "branch                    0.0      0.17             0.26   0.11  0.02   \n",
       "\n",
       "                  related_customers family_size initial_fee_level  \\\n",
       "customer_id                    0.02         0.0              0.03   \n",
       "converted                      0.19        0.16              0.34   \n",
       "customer_segment               0.15        0.02              0.63   \n",
       "gender                         0.21        0.25              0.27   \n",
       "age                            0.22        0.22              0.16   \n",
       "related_customers               1.0        0.24              0.25   \n",
       "family_size                    0.24         1.0              0.19   \n",
       "initial_fee_level              0.25        0.19               1.0   \n",
       "credit_account_id              0.14        0.09              0.64   \n",
       "branch                         0.09        0.05              0.21   \n",
       "\n",
       "                  credit_account_id branch  \n",
       "customer_id                    0.06    0.0  \n",
       "converted                      0.31   0.17  \n",
       "customer_segment               0.79   0.26  \n",
       "gender                         0.13   0.11  \n",
       "age                            0.25   0.02  \n",
       "related_customers              0.14   0.09  \n",
       "family_size                    0.09   0.05  \n",
       "initial_fee_level              0.64   0.21  \n",
       "credit_account_id               1.0   0.23  \n",
       "branch                         0.23    1.0  "
      ]
     },
     "execution_count": 57,
     "metadata": {},
     "output_type": "execute_result"
    }
   ],
   "source": [
    "cramersV_results_df"
   ]
  },
  {
   "cell_type": "code",
   "execution_count": 58,
   "metadata": {},
   "outputs": [],
   "source": [
    "results_arr = cramersV_results_df.values.astype('float64')"
   ]
  },
  {
   "cell_type": "markdown",
   "metadata": {},
   "source": [
    "# Heatmap with the results\n",
    " \n",
    " Note that the diagonal will always be 1 as this is correlation between the variable itself."
   ]
  },
  {
   "cell_type": "code",
   "execution_count": 65,
   "metadata": {},
   "outputs": [
    {
     "data": {
      "image/png": "[encoded data removed]",
      "text/plain": [
       "<Figure size 864x864 with 2 Axes>"
      ]
     },
     "metadata": {
      "needs_background": "light"
     },
     "output_type": "display_data"
    }
   ],
   "source": [
    "plt.figure(figsize=(12,12))\n",
    "sns.heatmap(results_arr, annot=True, xticklabels=cramersV_results_df.columns, yticklabels=cramersV_results_df.columns)\n",
    "plt.show()\n"
   ]
  },
  {
   "cell_type": "markdown",
   "metadata": {},
   "source": [
    "##  Rundown of the different variables's correlation with \"converted\"   \n",
    "#### Customer id\n",
    "As expected is the customer id not correlated with anything.\n",
    "#### Customer segment [one of the most imporant]\n",
    "With a Cramer's V value of 0.34 there is some correlation between customer segment and whether a sustomer is converted or not. This is also clear to see in the histogram plotted in the beginning of this document where customer segment 13 has a majority of the customers being not converted. The rest of the segments don't have a strong relationship with \"converted\" which is probably what drags the Cramer's V value down.\n",
    "#### Gender [one of the most imporant]\n",
    "The results from Cramer's V supports the PowerBI analysis that the gender is the most important factor in determining if a customer is converted or not. The result of 0.54 in the Cramer's V is however not a very strong correlation (as the result is between 0 and 1 with 1 being the perfect correlation) and should not stand alone if one is to predict a customer's conversion status.\n",
    "#### Age\n",
    "Besides the customer id, age is the least important factor in relation to \"converted\". It is also not present in neither key influencers nor top segments in the PowerBI nalysis.\n",
    "#### Related customers\n",
    "The number of related customers do not have a high Cramer's V value, but do show up as one of the weaker key influencers and in some of the segments in the PowerBI analysis. Alone it is therefore not an important factor compared to other available factors, but can in combination with other factors help determine if a customer is converted.\n",
    "#### Family size\n",
    "Family size has a fairly low Cramer's V value of 0.16, but is included as one of the weaker key influencers in the PowerBI analysis as well as is included in some of the segments for \"not converted\". Alone it is thus not one of the most important factors, but can help in combination with other factors.\n",
    "#### Initial fee level [one of the most imporant]\n",
    "Together with customer segment this has a Cramer's V value of 0.34, which is the second to highest correlation value. It is therefore one of the three most important sole factors together with the segment and gender. \n",
    "#### Credit account id\n",
    "Credit account id has a fairly high Cramer's V value (0.31) when considering that it did not show up in the PowerBI analysis. This most likely has to do with that it was separated into just two categories in this analysis based on whether the customer had an id or not. Here it thus seems that there is some correlation between whether or not a customer has an id or not, but not necessarily with the specific id itself. \n",
    "#### Branch\n",
    "Like the family size, branch has one of the lower Cramer's V values of 0.17, and is likewise not one of the most important factors. Some of the specific branches are however named as key influencers by PowerBI and are included in some segments. Like with the rest it can thus with fine results be used together with other factors."
   ]
  },
  {
   "cell_type": "markdown",
   "metadata": {},
   "source": [
    "## Final notes\n",
    "\n",
    "It is important to note that this analysis is based on looking at \"converted\"'s relationship with one variable at the time. Therefore stronger correlations that can be used in predictions of a customer's conversion status can be made if several factors are combined. This is supported in th PowerBI key influencer analysis where several segments consisting of 3-5 factors have a very high percentage af correct classification of \"converted\" based on the chosen intervals of those factor. "
   ]
  }
 ],
 "metadata": {
  "interpreter": {
   "hash": "8e61c9422603e3d3820d3aeca1b8eefe471d1a1023a28a3903412dc32402bf43"
  },
  "kernelspec": {
   "display_name": "Python 3.7.8 32-bit",
   "name": "python3"
  },
  "language_info": {
   "codemirror_mode": {
    "name": "ipython",
    "version": 3
   },
   "file_extension": ".py",
   "mimetype": "text/x-python",
   "name": "python",
   "nbconvert_exporter": "python",
   "pygments_lexer": "ipython3",
   "version": "3.7.8"
  },
  "orig_nbformat": 4
 },
 "nbformat": 4,
 "nbformat_minor": 2
}
